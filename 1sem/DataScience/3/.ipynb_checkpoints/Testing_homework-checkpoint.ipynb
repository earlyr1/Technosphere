{
 "cells": [
  {
   "cell_type": "code",
   "execution_count": 1,
   "metadata": {
    "collapsed": true
   },
   "outputs": [],
   "source": [
    "# python 2\n",
    "# import cPickle as pickle\n",
    "import pickle\n",
    "import numpy as np\n",
    "\n",
    "%load_ext autoreload\n",
    "%autoreload 2"
   ]
  },
  {
   "cell_type": "markdown",
   "metadata": {
    "collapsed": true
   },
   "source": [
    "## Compile cython functions"
   ]
  },
  {
   "cell_type": "code",
   "execution_count": 7,
   "metadata": {},
   "outputs": [
    {
     "name": "stdout",
     "output_type": "stream",
     "text": [
      "rm: невозможно удалить «cython_functions.c»: Нет такого файла или каталога\n",
      "rm: невозможно удалить «cython_functions.so»: Нет такого файла или каталога\n",
      "rm: невозможно удалить «build»: Нет такого файла или каталога\n"
     ]
    }
   ],
   "source": [
    "!rm cython_functions.c\n",
    "!rm cython_functions.so\n",
    "!rm -r build"
   ]
  },
  {
   "cell_type": "code",
   "execution_count": 8,
   "metadata": {
    "scrolled": true
   },
   "outputs": [
    {
     "name": "stdout",
     "output_type": "stream",
     "text": [
      "running build_ext\n",
      "cythoning cython_functions.pyx to cython_functions.c\n",
      "building 'cython_functions' extension\n",
      "creating build\n",
      "creating build/temp.linux-i686-2.7\n",
      "gcc -pthread -fno-strict-aliasing -g -O2 -DNDEBUG -g -fwrapv -O3 -Wall -Wstrict-prototypes -fPIC -I/home/ruslan/anaconda2/lib/python2.7/site-packages/numpy/core/include -I/home/ruslan/anaconda2/include/python2.7 -c cython_functions.c -o build/temp.linux-i686-2.7/cython_functions.o\n",
      "In file included from /home/ruslan/anaconda2/lib/python2.7/site-packages/numpy/core/include/numpy/ndarraytypes.h:1788:0,\n",
      "                 from /home/ruslan/anaconda2/lib/python2.7/site-packages/numpy/core/include/numpy/ndarrayobject.h:18,\n",
      "                 from /home/ruslan/anaconda2/lib/python2.7/site-packages/numpy/core/include/numpy/arrayobject.h:4,\n",
      "                 from cython_functions.c:435:\n",
      "/home/ruslan/anaconda2/lib/python2.7/site-packages/numpy/core/include/numpy/npy_1_7_deprecated_api.h:15:2: warning: #warning \"Using deprecated NumPy API, disable it by \" \"#defining NPY_NO_DEPRECATED_API NPY_1_7_API_VERSION\" [-Wcpp]\n",
      " #warning \"Using deprecated NumPy API, disable it by \" \\\n",
      "  ^\n",
      "cython_functions.c:1483:18: warning: ‘__pyx_f_16cython_functions_matrix_multiply’ defined but not used [-Wunused-function]\n",
      " static PyObject *__pyx_f_16cython_functions_matrix_multiply(PyArrayObject *__pyx_v_X, PyArrayObject *__pyx_v_Y) {\n",
      "                  ^\n",
      "creating build/lib.linux-i686-2.7\n",
      "gcc -pthread -shared -L/home/ruslan/anaconda2/lib -Wl,-rpath=/home/ruslan/anaconda2/lib,--no-as-needed build/temp.linux-i686-2.7/cython_functions.o -L/home/ruslan/anaconda2/lib -lpython2.7 -o build/lib.linux-i686-2.7/cython_functions.so\n",
      "copying build/lib.linux-i686-2.7/cython_functions.so -> \n"
     ]
    }
   ],
   "source": [
    "!python cython_setup.py build_ext --inplace"
   ]
  },
  {
   "cell_type": "markdown",
   "metadata": {},
   "source": [
    "## Matrix multipliaction"
   ]
  },
  {
   "cell_type": "code",
   "execution_count": 9,
   "metadata": {},
   "outputs": [
    {
     "ename": "ImportError",
     "evalue": "cannot import name matrix_multiply",
     "output_type": "error",
     "traceback": [
      "\u001b[0;31m---------------------------------------------------------------------------\u001b[0m",
      "\u001b[0;31mImportError\u001b[0m                               Traceback (most recent call last)",
      "\u001b[0;32m<ipython-input-9-836e85b20617>\u001b[0m in \u001b[0;36m<module>\u001b[0;34m()\u001b[0m\n\u001b[1;32m      5\u001b[0m \u001b[0;31m# from numpy_functions import matrix_multiply\u001b[0m\u001b[0;34m\u001b[0m\u001b[0;34m\u001b[0m\u001b[0m\n\u001b[1;32m      6\u001b[0m \u001b[0;31m# from numba_functions import matrix_multiply\u001b[0m\u001b[0;34m\u001b[0m\u001b[0;34m\u001b[0m\u001b[0m\n\u001b[0;32m----> 7\u001b[0;31m \u001b[0;32mfrom\u001b[0m \u001b[0mcython_functions\u001b[0m \u001b[0;32mimport\u001b[0m \u001b[0mmatrix_multiply\u001b[0m\u001b[0;34m\u001b[0m\u001b[0m\n\u001b[0m",
      "\u001b[0;31mImportError\u001b[0m: cannot import name matrix_multiply"
     ]
    }
   ],
   "source": [
    "# for python3 add . before filename\n",
    "# from .numpy_functions import matrix_multiply\n",
    "\n",
    "# change filename to check other functions !!!\n",
    "# from numpy_functions import matrix_multiply\n",
    "# from numba_functions import matrix_multiply\n",
    "from .cython_functions import matrix_multiply"
   ]
  },
  {
   "cell_type": "code",
   "execution_count": null,
   "metadata": {
    "collapsed": true
   },
   "outputs": [],
   "source": [
    "# python 3\n",
    "with open('matrix_mult_tests.pickle', 'rb') as f:\n",
    "    testing_data = pickle.load(f, encoding='bytes')\n",
    "\n",
    "# python 2\n",
    "# with open('matrix_mult_tests.pickle') as f:\n",
    "#     testing_data = pickle.load(f)"
   ]
  },
  {
   "cell_type": "markdown",
   "metadata": {},
   "source": [
    "#### Correctness test"
   ]
  },
  {
   "cell_type": "code",
   "execution_count": null,
   "metadata": {
    "collapsed": true
   },
   "outputs": [],
   "source": [
    "for i, (X, Y, out) in enumerate(testing_data):\n",
    "    your_out = matrix_multiply(X, Y)\n",
    "    assert np.allclose(your_out, out), \\\n",
    "           \"\"\"current test: {}\n",
    "                your shape: {}, shape should be: {}\n",
    "                mean absolute diff: {}\n",
    "           \"\"\".format(i, your_out.shape,out.shape,\n",
    "                      np.mean(np.abs(your_out - out)))"
   ]
  },
  {
   "cell_type": "markdown",
   "metadata": {},
   "source": [
    "#### Speed test"
   ]
  },
  {
   "cell_type": "code",
   "execution_count": null,
   "metadata": {
    "collapsed": true
   },
   "outputs": [],
   "source": [
    "X = np.random.rand(1000, 100)\n",
    "Y = np.random.rand(100, 500)"
   ]
  },
  {
   "cell_type": "code",
   "execution_count": null,
   "metadata": {
    "collapsed": true
   },
   "outputs": [],
   "source": [
    "%%time\n",
    "# on my pc numba is 10-20 times slower than numpy\n",
    "# and cython is 2-3 times slower than numba\n",
    "_ = matrix_multiply(X, Y)"
   ]
  },
  {
   "cell_type": "markdown",
   "metadata": {},
   "source": [
    "## Row mean"
   ]
  },
  {
   "cell_type": "code",
   "execution_count": null,
   "metadata": {
    "collapsed": true
   },
   "outputs": [],
   "source": [
    "# for python3 add . before filename\n",
    "# from .numpy_functions import matrix_rowmean\n",
    "\n",
    "# change filename to check other functions !!!\n",
    "from numpy_functions import matrix_rowmean\n",
    "# from numba_functions import matrix_rowmean\n",
    "# from cython_functions import matrix_rowmean"
   ]
  },
  {
   "cell_type": "markdown",
   "metadata": {},
   "source": [
    "### Correctness test"
   ]
  },
  {
   "cell_type": "code",
   "execution_count": null,
   "metadata": {
    "collapsed": true
   },
   "outputs": [],
   "source": [
    "# python 3\n",
    "with open('row_mean_tests.pickle', 'rb') as f:\n",
    "    testing_data = pickle.load(f, encoding='bytes')\n",
    "\n",
    "\n",
    "# python 2\n",
    "# with open('row_mean_tests.pickle') as f:\n",
    "#     testing_data = pickle.load(f)"
   ]
  },
  {
   "cell_type": "code",
   "execution_count": null,
   "metadata": {
    "collapsed": true,
    "scrolled": true
   },
   "outputs": [],
   "source": [
    "for i, (X, weights, out) in enumerate(testing_data):\n",
    "    your_out = matrix_rowmean(X, weights)\n",
    "    assert np.allclose(your_out, out), \\\n",
    "           \"\"\"current test: {}\n",
    "                your shape: {}, shape should be: {}\n",
    "                mean absolute diff: {}\n",
    "           \"\"\".format(i, your_out.shape,out.shape,\n",
    "                      np.mean(np.abs(your_out - out)))"
   ]
  },
  {
   "cell_type": "markdown",
   "metadata": {},
   "source": [
    "### Speed test"
   ]
  },
  {
   "cell_type": "code",
   "execution_count": null,
   "metadata": {
    "collapsed": true
   },
   "outputs": [],
   "source": [
    "X = np.random.rand(1000, 100)\n",
    "weights = np.random.rand(100)"
   ]
  },
  {
   "cell_type": "code",
   "execution_count": null,
   "metadata": {
    "collapsed": true
   },
   "outputs": [],
   "source": [
    "%%time\n",
    "_ = matrix_rowmean(X, weights)"
   ]
  },
  {
   "cell_type": "markdown",
   "metadata": {},
   "source": [
    "## Cosine similarity"
   ]
  },
  {
   "cell_type": "code",
   "execution_count": null,
   "metadata": {
    "collapsed": true
   },
   "outputs": [],
   "source": [
    "# for python3 add . before filename\n",
    "# from .numpy_functions import cosine_similarity\n",
    "\n",
    "# change filename to check other functions !!!\n",
    "from numpy_functions import cosine_similarity\n",
    "# from numba_functions import cosine_similarity\n",
    "# from cython_functions import cosine_similarity"
   ]
  },
  {
   "cell_type": "code",
   "execution_count": null,
   "metadata": {
    "collapsed": true
   },
   "outputs": [],
   "source": [
    "# python 3\n",
    "with open('cosine_similarity_tests.pickle', 'rb') as f:\n",
    "    testing_data = pickle.load(f, encoding='bytes')\n",
    "\n",
    "\n",
    "# python 2\n",
    "# with open('cosine_similarity_tests.pickle') as f:\n",
    "#     testing_data = pickle.load(f)"
   ]
  },
  {
   "cell_type": "markdown",
   "metadata": {},
   "source": [
    "### Correctness test"
   ]
  },
  {
   "cell_type": "code",
   "execution_count": null,
   "metadata": {
    "collapsed": true
   },
   "outputs": [],
   "source": [
    "for i, (X, with_mean, with_std, top_n, out) in enumerate(testing_data):\n",
    "    your_out = cosine_similarity(X, top_n, with_mean, with_std)\n",
    "    assert np.allclose(your_out, out), \\\n",
    "           \"\"\"current test: {}\n",
    "                your shape: {}, shape should be: {}\n",
    "                mean absolute diff: {}\n",
    "           \"\"\".format(i, your_out.shape,out.shape,\n",
    "                      np.mean(np.abs(your_out - out)))"
   ]
  },
  {
   "cell_type": "markdown",
   "metadata": {},
   "source": [
    "### Speed test"
   ]
  },
  {
   "cell_type": "code",
   "execution_count": null,
   "metadata": {
    "collapsed": true
   },
   "outputs": [],
   "source": [
    "X = np.random.rand(1000, 10000)"
   ]
  },
  {
   "cell_type": "code",
   "execution_count": null,
   "metadata": {
    "collapsed": true
   },
   "outputs": [],
   "source": [
    "%%time\n",
    "_ = cosine_similarity(X, 100, True, True)"
   ]
  },
  {
   "cell_type": "code",
   "execution_count": null,
   "metadata": {
    "collapsed": true
   },
   "outputs": [],
   "source": []
  }
 ],
 "metadata": {
  "kernelspec": {
   "display_name": "Python 2",
   "language": "python",
   "name": "python2"
  },
  "language_info": {
   "codemirror_mode": {
    "name": "ipython",
    "version": 2
   },
   "file_extension": ".py",
   "mimetype": "text/x-python",
   "name": "python",
   "nbconvert_exporter": "python",
   "pygments_lexer": "ipython2",
   "version": "2.7.13"
  }
 },
 "nbformat": 4,
 "nbformat_minor": 2
}
