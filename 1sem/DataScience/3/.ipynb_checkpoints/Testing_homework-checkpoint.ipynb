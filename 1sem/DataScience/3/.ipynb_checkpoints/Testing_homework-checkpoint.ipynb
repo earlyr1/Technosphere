{
 "cells": [
  {
   "cell_type": "code",
   "execution_count": 1,
   "metadata": {},
   "outputs": [],
   "source": [
    "# python 2\n",
    "# import cPickle as pickle\n",
    "import pickle\n",
    "import numpy as np\n",
    "\n",
    "%load_ext autoreload\n",
    "%autoreload 2"
   ]
  },
  {
   "cell_type": "markdown",
   "metadata": {
    "collapsed": true
   },
   "source": [
    "## Compile cython functions"
   ]
  },
  {
   "cell_type": "code",
   "execution_count": 2,
   "metadata": {},
   "outputs": [],
   "source": [
    "!rm cython_functions.c\n",
    "!rm cython_functions.so\n",
    "!rm -r build"
   ]
  },
  {
   "cell_type": "code",
   "execution_count": 3,
   "metadata": {
    "scrolled": true
   },
   "outputs": [
    {
     "name": "stdout",
     "output_type": "stream",
     "text": [
      "running build_ext\n",
      "cythoning cython_functions.pyx to cython_functions.c\n",
      "building 'cython_functions' extension\n",
      "creating build\n",
      "creating build/temp.linux-x86_64-2.7\n",
      "gcc -pthread -B /home/ruslan/anaconda2/compiler_compat -Wl,--sysroot=/ -fno-strict-aliasing -g -O2 -DNDEBUG -g -fwrapv -O3 -Wall -Wstrict-prototypes -fPIC -I/home/ruslan/anaconda2/lib/python2.7/site-packages/numpy/core/include -I/home/ruslan/anaconda2/include/python2.7 -c cython_functions.c -o build/temp.linux-x86_64-2.7/cython_functions.o\n",
      "In file included from \u001b[01m\u001b[K/home/ruslan/anaconda2/lib/python2.7/site-packages/numpy/core/include/numpy/ndarraytypes.h:1816:0\u001b[m\u001b[K,\n",
      "                 from \u001b[01m\u001b[K/home/ruslan/anaconda2/lib/python2.7/site-packages/numpy/core/include/numpy/ndarrayobject.h:18\u001b[m\u001b[K,\n",
      "                 from \u001b[01m\u001b[K/home/ruslan/anaconda2/lib/python2.7/site-packages/numpy/core/include/numpy/arrayobject.h:4\u001b[m\u001b[K,\n",
      "                 from \u001b[01m\u001b[Kcython_functions.c:525\u001b[m\u001b[K:\n",
      "\u001b[01m\u001b[K/home/ruslan/anaconda2/lib/python2.7/site-packages/numpy/core/include/numpy/npy_1_7_deprecated_api.h:15:2:\u001b[m\u001b[K \u001b[01;35m\u001b[Kwarning: \u001b[m\u001b[K#warning \"Using deprecated NumPy API, disable it by \" \"#defining NPY_NO_DEPRECATED_API NPY_1_7_API_VERSION\" [-Wcpp]\n",
      " #warning \"Using deprecated NumPy API, disable it by \" \\\n",
      "\u001b[01;32m\u001b[K  ^\u001b[m\u001b[K\n",
      "\u001b[01m\u001b[Kcython_functions.c:1596:18:\u001b[m\u001b[K \u001b[01;35m\u001b[Kwarning: \u001b[m\u001b[K‘\u001b[01m\u001b[K__pyx_f_16cython_functions_matrix_multiply\u001b[m\u001b[K’ defined but not used [-Wunused-function]\n",
      " static PyObject *__pyx_f_16cython_functions_matrix_multiply(PyArrayObject *__py\n",
      "\u001b[01;32m\u001b[K                  ^\u001b[m\u001b[K\n",
      "\u001b[01m\u001b[Kcython_functions.c:1837:18:\u001b[m\u001b[K \u001b[01;35m\u001b[Kwarning: \u001b[m\u001b[K‘\u001b[01m\u001b[K__pyx_f_16cython_functions_matrix_rowmean\u001b[m\u001b[K’ defined but not used [-Wunused-function]\n",
      " static PyObject *__pyx_f_16cython_functions_matrix_rowmean(CYTHON_UNUSED PyObje\n",
      "\u001b[01;32m\u001b[K                  ^\u001b[m\u001b[K\n",
      "\u001b[01m\u001b[Kcython_functions.c:1891:18:\u001b[m\u001b[K \u001b[01;35m\u001b[Kwarning: \u001b[m\u001b[K‘\u001b[01m\u001b[K__pyx_f_16cython_functions_cosine_similarity\u001b[m\u001b[K’ defined but not used [-Wunused-function]\n",
      " static PyObject *__pyx_f_16cython_functions_cosine_similarity(CYTHON_UNUSED PyO\n",
      "\u001b[01;32m\u001b[K                  ^\u001b[m\u001b[K\n",
      "creating build/lib.linux-x86_64-2.7\n",
      "gcc -pthread -shared -B /home/ruslan/anaconda2/compiler_compat -L/home/ruslan/anaconda2/lib -Wl,-rpath=/home/ruslan/anaconda2/lib -Wl,--no-as-needed -Wl,--sysroot=/ build/temp.linux-x86_64-2.7/cython_functions.o -L/home/ruslan/anaconda2/lib -lpython2.7 -o build/lib.linux-x86_64-2.7/cython_functions.so\n",
      "copying build/lib.linux-x86_64-2.7/cython_functions.so -> \n"
     ]
    }
   ],
   "source": [
    "!python cython_setup.py build_ext --inplace"
   ]
  },
  {
   "cell_type": "markdown",
   "metadata": {},
   "source": [
    "## Matrix multipliaction"
   ]
  },
  {
   "cell_type": "code",
   "execution_count": 44,
   "metadata": {},
   "outputs": [],
   "source": [
    "# for python3 add . before filename\n",
    "# from .numpy_functions import matrix_multiply\n",
    "\n",
    "# change filename to check other functions !!!\n",
    "# from numpy_functions import matrix_multiply\n",
    "from numba_functions import matrix_multiply\n",
    "# from cython_functions import matrix_multiply"
   ]
  },
  {
   "cell_type": "code",
   "execution_count": 45,
   "metadata": {},
   "outputs": [],
   "source": [
    "# python 3\n",
    "# with open('matrix_mult_tests.pickle', 'rb') as f:\n",
    "#     testing_data = pickle.load(f, encoding='bytes')\n",
    "\n",
    "#python 2\n",
    "with open('matrix_mult_tests.pickle') as f:\n",
    "    testing_data = pickle.load(f)"
   ]
  },
  {
   "cell_type": "markdown",
   "metadata": {},
   "source": [
    "#### Correctness test"
   ]
  },
  {
   "cell_type": "code",
   "execution_count": 46,
   "metadata": {},
   "outputs": [],
   "source": [
    "for i, (X, Y, out) in enumerate(testing_data):\n",
    "    your_out = matrix_multiply(X, Y)\n",
    "    assert np.allclose(your_out, out), \\\n",
    "           \"\"\"current test: {}\n",
    "                your shape: {}, shape should be: {}\n",
    "                mean absolute diff: {}\n",
    "           \"\"\".format(i, your_out.shape,out.shape,\n",
    "                      np.mean(np.abs(your_out - out)))"
   ]
  },
  {
   "cell_type": "markdown",
   "metadata": {},
   "source": [
    "#### Speed test"
   ]
  },
  {
   "cell_type": "code",
   "execution_count": 47,
   "metadata": {},
   "outputs": [],
   "source": [
    "X = np.random.rand(1000, 100)\n",
    "Y = np.random.rand(100, 500)"
   ]
  },
  {
   "cell_type": "code",
   "execution_count": 48,
   "metadata": {},
   "outputs": [
    {
     "name": "stdout",
     "output_type": "stream",
     "text": [
      "CPU times: user 25.7 ms, sys: 703 µs, total: 26.4 ms\n",
      "Wall time: 26.4 ms\n"
     ]
    }
   ],
   "source": [
    "%%time\n",
    "# on my pc numba is 10-20 times slower than numpy\n",
    "# and cython is 2-3 times slower than numba\n",
    "_ = matrix_multiply(X, Y)"
   ]
  },
  {
   "cell_type": "markdown",
   "metadata": {},
   "source": [
    "## Row mean"
   ]
  },
  {
   "cell_type": "code",
   "execution_count": 78,
   "metadata": {},
   "outputs": [],
   "source": [
    "# for python3 add . before filename\n",
    "# from .numpy_functions import matrix_rowmean\n",
    "\n",
    "# change filename to check other functions !!!\n",
    "# from numpy_functions import matrix_rowmean\n",
    "from numba_functions import matrix_rowmean\n",
    "# from cython_functions import matrix_rowmean"
   ]
  },
  {
   "cell_type": "markdown",
   "metadata": {},
   "source": [
    "### Correctness test"
   ]
  },
  {
   "cell_type": "code",
   "execution_count": 67,
   "metadata": {},
   "outputs": [],
   "source": [
    "# python 3\n",
    "# with open('row_mean_tests.pickle', 'rb') as f:\n",
    "#     testing_data = pickle.load(f, encoding='bytes')\n",
    "\n",
    "\n",
    "# python 2\n",
    "with open('row_mean_tests.pickle') as f:\n",
    "    testing_data = pickle.load(f)"
   ]
  },
  {
   "cell_type": "code",
   "execution_count": 79,
   "metadata": {
    "scrolled": true
   },
   "outputs": [],
   "source": [
    "for i, (X, weights, out) in enumerate(testing_data):\n",
    "    your_out = matrix_rowmean(X, weights)\n",
    "    assert np.allclose(your_out, out), \\\n",
    "           \"\"\"current test: {}\n",
    "                your shape: {}, shape should be: {}\n",
    "                mean absolute diff: {}\n",
    "           \"\"\".format(i, your_out.shape,out.shape,\n",
    "                      np.mean(np.abs(your_out - out)))"
   ]
  },
  {
   "cell_type": "markdown",
   "metadata": {},
   "source": [
    "### Speed test"
   ]
  },
  {
   "cell_type": "code",
   "execution_count": null,
   "metadata": {
    "collapsed": true
   },
   "outputs": [],
   "source": [
    "X = np.random.rand(1000, 100)\n",
    "weights = np.random.rand(100)"
   ]
  },
  {
   "cell_type": "code",
   "execution_count": null,
   "metadata": {
    "collapsed": true
   },
   "outputs": [],
   "source": [
    "%%time\n",
    "_ = matrix_rowmean(X, weights)"
   ]
  },
  {
   "cell_type": "markdown",
   "metadata": {},
   "source": [
    "## Cosine similarity"
   ]
  },
  {
   "cell_type": "code",
   "execution_count": 123,
   "metadata": {},
   "outputs": [],
   "source": [
    "# for python3 add . before filename\n",
    "# from .numpy_functions import cosine_similarity\n",
    "\n",
    "# change filename to check other functions !!!\n",
    "# from numpy_functions import cosine_similarity\n",
    "from numba_functions import cosine_similarity\n",
    "# from cython_functions import cosine_similarity"
   ]
  },
  {
   "cell_type": "code",
   "execution_count": 116,
   "metadata": {},
   "outputs": [],
   "source": [
    "# python 3\n",
    "# with open('cosine_similarity_tests.pickle', 'rb') as f:\n",
    "#     testing_data = pickle.load(f, encoding='bytes')\n",
    "\n",
    "\n",
    "# python 2\n",
    "with open('cosine_similarity_tests.pickle') as f:\n",
    "    testing_data = pickle.load(f)"
   ]
  },
  {
   "cell_type": "markdown",
   "metadata": {},
   "source": [
    "### Correctness test"
   ]
  },
  {
   "cell_type": "code",
   "execution_count": 127,
   "metadata": {},
   "outputs": [
    {
     "name": "stdout",
     "output_type": "stream",
     "text": [
      "[[1.         0.30029593 0.5066759  0.37989447 0.21825815 0.47869519\n",
      "  0.45869747 0.33123579 0.34559786 0.41727726 0.26280441 0.25513233\n",
      "  0.41834581 0.55810685]\n",
      " [0.30029593 1.         0.20318359 0.44465935 0.46143642 0.38765345\n",
      "  0.41508691 0.43455378 0.28858303 0.33744599 0.4529244  0.38339181\n",
      "  0.39414964 0.3996988 ]\n",
      " [0.5066759  0.20318359 1.         0.25626221 0.39368535 0.43964318\n",
      "  0.3593324  0.40116055 0.4315626  0.35746562 0.37520768 0.30501758\n",
      "  0.27904331 0.40933165]\n",
      " [0.37989447 0.44465935 0.25626221 1.         0.3693202  0.28279351\n",
      "  0.17135392 0.48404885 0.19151223 0.38714463 0.33842273 0.30303295\n",
      "  0.28446154 0.59832069]\n",
      " [0.21825815 0.46143642 0.39368535 0.3693202  1.         0.42705591\n",
      "  0.36519948 0.40589905 0.27220528 0.4366511  0.4128078  0.50831215\n",
      "  0.3913882  0.2468736 ]\n",
      " [0.47869519 0.38765345 0.43964318 0.28279351 0.42705591 1.\n",
      "  0.54853082 0.35766221 0.30485466 0.4602313  0.44463738 0.52636812\n",
      "  0.32956362 0.3224283 ]\n",
      " [0.45869747 0.41508691 0.3593324  0.17135392 0.36519948 0.54853082\n",
      "  1.         0.30515594 0.39174096 0.2718459  0.5292896  0.44754051\n",
      "  0.40790435 0.26415425]\n",
      " [0.33123579 0.43455378 0.40116055 0.48404885 0.40589905 0.35766221\n",
      "  0.30515594 1.         0.32714754 0.30101546 0.32613992 0.49515948\n",
      "  0.37852531 0.37957321]\n",
      " [0.34559786 0.28858303 0.4315626  0.19151223 0.27220528 0.30485466\n",
      "  0.39174096 0.32714754 1.         0.14484386 0.52063344 0.35152128\n",
      "  0.25915623 0.17155297]\n",
      " [0.41727726 0.33744599 0.35746562 0.38714463 0.4366511  0.4602313\n",
      "  0.2718459  0.30101546 0.14484386 1.         0.15378866 0.5949406\n",
      "  0.40691805 0.32389856]\n",
      " [0.26280441 0.4529244  0.37520768 0.33842273 0.4128078  0.44463738\n",
      "  0.5292896  0.32613992 0.52063344 0.15378866 1.         0.23380265\n",
      "  0.20736    0.30666749]\n",
      " [0.25513233 0.38339181 0.30501758 0.30303295 0.50831215 0.52636812\n",
      "  0.44754051 0.49515948 0.35152128 0.5949406  0.23380265 1.\n",
      "  0.29774874 0.23424215]\n",
      " [0.41834581 0.39414964 0.27904331 0.28446154 0.3913882  0.32956362\n",
      "  0.40790435 0.37852531 0.25915623 0.40691805 0.20736    0.29774874\n",
      "  1.         0.36255238]\n",
      " [0.55810685 0.3996988  0.40933165 0.59832069 0.2468736  0.3224283\n",
      "  0.26415425 0.37957321 0.17155297 0.32389856 0.30666749 0.23424215\n",
      "  0.36255238 1.        ]]\n",
      "\n",
      "[[1.         0.06112926 0.48346656 0.24793715 0.07738528 0.32559641\n",
      "  0.27225095 0.23962136 0.16742457 0.20793788 0.11717154 0.05273554\n",
      "  0.26366536 0.36554598]\n",
      " [0.06112926 1.         0.07327838 0.38048999 0.32629696 0.33769543\n",
      "  0.2125919  0.43295952 0.2336202  0.24329504 0.42615809 0.2430925\n",
      "  0.20985826 0.16119469]\n",
      " [0.48346656 0.07327838 1.         0.16921142 0.32778022 0.28154987\n",
      "  0.17755567 0.19151843 0.26030052 0.22320088 0.23383275 0.10698289\n",
      "  0.12692065 0.34881194]\n",
      " [0.24793715 0.38048999 0.16921142 1.         0.25816817 0.24482382\n",
      "  0.05122029 0.43398278 0.10725604 0.19051104 0.22624411 0.25198253\n",
      "  0.16771351 0.43563707]\n",
      " [0.07738528 0.32629696 0.32778022 0.25816817 1.         0.25474945\n",
      "  0.24049971 0.2894319  0.15580834 0.34591228 0.22698002 0.42001867\n",
      "  0.25261803 0.10477452]\n",
      " [0.32559641 0.33769543 0.28154987 0.24482382 0.25474945 1.\n",
      "  0.466752   0.28178354 0.19958425 0.35187012 0.31295303 0.4767952\n",
      "  0.21576294 0.32486837]\n",
      " [0.27225095 0.2125919  0.17755567 0.05122029 0.24049971 0.466752\n",
      "  1.         0.20851548 0.23917005 0.18000406 0.34598678 0.33126194\n",
      "  0.32118931 0.09790541]\n",
      " [0.23962136 0.43295952 0.19151843 0.43398278 0.2894319  0.28178354\n",
      "  0.20851548 1.         0.19104091 0.13369612 0.09978699 0.3031252\n",
      "  0.3148778  0.23804608]\n",
      " [0.16742457 0.2336202  0.26030052 0.10725604 0.15580834 0.19958425\n",
      "  0.23917005 0.19104091 1.         0.04408041 0.41540523 0.22554954\n",
      "  0.04716435 0.07276065]\n",
      " [0.20793788 0.24329504 0.22320088 0.19051104 0.34591228 0.35187012\n",
      "  0.18000406 0.13369612 0.04408041 1.         0.03867136 0.58814047\n",
      "  0.29915779 0.17781146]\n",
      " [0.11717154 0.42615809 0.23383275 0.22624411 0.22698002 0.31295303\n",
      "  0.34598678 0.09978699 0.41540523 0.03867136 1.         0.0880513\n",
      "  0.05140584 0.12333632]\n",
      " [0.05273554 0.2430925  0.10698289 0.25198253 0.42001867 0.4767952\n",
      "  0.33126194 0.3031252  0.22554954 0.58814047 0.0880513  1.\n",
      "  0.14597591 0.20525288]\n",
      " [0.26366536 0.20985826 0.12692065 0.16771351 0.25261803 0.21576294\n",
      "  0.32118931 0.3148778  0.04716435 0.29915779 0.05140584 0.14597591\n",
      "  1.         0.29591407]\n",
      " [0.36554598 0.16119469 0.34881194 0.43563707 0.10477452 0.32486837\n",
      "  0.09790541 0.23804608 0.07276065 0.17781146 0.12333632 0.20525288\n",
      "  0.29591407 1.        ]]\n"
     ]
    },
    {
     "ename": "AssertionError",
     "evalue": "current test: 0\n                your shape: (14, 14), shape should be: (14, 14)\n                mean absolute diff: 0.116226807376\n           ",
     "output_type": "error",
     "traceback": [
      "\u001b[0;31m---------------------------------------------------------------------------\u001b[0m",
      "\u001b[0;31mAssertionError\u001b[0m                            Traceback (most recent call last)",
      "\u001b[0;32m<ipython-input-127-2f5f626da4b3>\u001b[0m in \u001b[0;36m<module>\u001b[0;34m()\u001b[0m\n\u001b[1;32m      8\u001b[0m                 \u001b[0mmean\u001b[0m \u001b[0mabsolute\u001b[0m \u001b[0mdiff\u001b[0m\u001b[0;34m:\u001b[0m \u001b[0;34m{\u001b[0m\u001b[0;34m}\u001b[0m\u001b[0;34m\u001b[0m\u001b[0m\n\u001b[1;32m      9\u001b[0m            \"\"\".format(i, your_out.shape,out.shape,\n\u001b[0;32m---> 10\u001b[0;31m                       np.mean(np.abs(your_out - out)))\n\u001b[0m",
      "\u001b[0;31mAssertionError\u001b[0m: current test: 0\n                your shape: (14, 14), shape should be: (14, 14)\n                mean absolute diff: 0.116226807376\n           "
     ]
    }
   ],
   "source": [
    "for i, (X, with_mean, with_std, top_n, out) in enumerate(testing_data):\n",
    "    your_out = cosine_similarity(X, top_n, with_mean, with_std)\n",
    "    #print your_out\n",
    "    print ''\n",
    "    #print out\n",
    "    assert np.allclose(your_out, out), \\\n",
    "           \"\"\"current test: {}\n",
    "                your shape: {}, shape should be: {}\n",
    "                mean absolute diff: {}\n",
    "           \"\"\".format(i, your_out.shape,out.shape,\n",
    "                      np.mean(np.abs(your_out - out)))"
   ]
  },
  {
   "cell_type": "markdown",
   "metadata": {},
   "source": [
    "### Speed test"
   ]
  },
  {
   "cell_type": "code",
   "execution_count": 39,
   "metadata": {},
   "outputs": [],
   "source": [
    "X = np.random.rand(1000, 10000)"
   ]
  },
  {
   "cell_type": "code",
   "execution_count": 40,
   "metadata": {},
   "outputs": [
    {
     "name": "stdout",
     "output_type": "stream",
     "text": [
      "CPU times: user 2.07 s, sys: 211 ms, total: 2.28 s\n",
      "Wall time: 722 ms\n"
     ]
    }
   ],
   "source": [
    "%%time\n",
    "_ = cosine_similarity(X, 100, True, True)"
   ]
  },
  {
   "cell_type": "code",
   "execution_count": null,
   "metadata": {
    "collapsed": true
   },
   "outputs": [],
   "source": []
  }
 ],
 "metadata": {
  "kernelspec": {
   "display_name": "Python 2",
   "language": "python",
   "name": "python2"
  },
  "language_info": {
   "codemirror_mode": {
    "name": "ipython",
    "version": 2
   },
   "file_extension": ".py",
   "mimetype": "text/x-python",
   "name": "python",
   "nbconvert_exporter": "python",
   "pygments_lexer": "ipython2",
   "version": "2.7.14"
  }
 },
 "nbformat": 4,
 "nbformat_minor": 2
}
