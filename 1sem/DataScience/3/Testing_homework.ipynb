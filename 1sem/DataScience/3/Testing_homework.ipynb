{
 "cells": [
  {
   "cell_type": "code",
   "execution_count": 42,
   "metadata": {},
   "outputs": [
    {
     "name": "stdout",
     "output_type": "stream",
     "text": [
      "The autoreload extension is already loaded. To reload it, use:\n",
      "  %reload_ext autoreload\n"
     ]
    }
   ],
   "source": [
    "# python 2\n",
    "# import cPickle as pickle\n",
    "import pickle\n",
    "import numpy as np\n",
    "\n",
    "%load_ext autoreload\n",
    "%autoreload 2"
   ]
  },
  {
   "cell_type": "markdown",
   "metadata": {
    "collapsed": true
   },
   "source": [
    "## Compile cython functions"
   ]
  },
  {
   "cell_type": "code",
   "execution_count": 43,
   "metadata": {
    "collapsed": true
   },
   "outputs": [],
   "source": [
    "!rm cython_functions.c\n",
    "!rm cython_functions.so\n",
    "!rm -r build"
   ]
  },
  {
   "cell_type": "code",
   "execution_count": 44,
   "metadata": {
    "scrolled": true
   },
   "outputs": [
    {
     "name": "stdout",
     "output_type": "stream",
     "text": [
      "running build_ext\n",
      "cythoning cython_functions.pyx to cython_functions.c\n",
      "building 'cython_functions' extension\n",
      "creating build\n",
      "creating build/temp.linux-i686-2.7\n",
      "gcc -pthread -fno-strict-aliasing -g -O2 -DNDEBUG -g -fwrapv -O3 -Wall -Wstrict-prototypes -fPIC -I/home/ruslan/anaconda2/lib/python2.7/site-packages/numpy/core/include -I/home/ruslan/anaconda2/include/python2.7 -c cython_functions.c -o build/temp.linux-i686-2.7/cython_functions.o\n",
      "In file included from /home/ruslan/anaconda2/lib/python2.7/site-packages/numpy/core/include/numpy/ndarraytypes.h:1788:0,\n",
      "                 from /home/ruslan/anaconda2/lib/python2.7/site-packages/numpy/core/include/numpy/ndarrayobject.h:18,\n",
      "                 from /home/ruslan/anaconda2/lib/python2.7/site-packages/numpy/core/include/numpy/arrayobject.h:4,\n",
      "                 from cython_functions.c:435:\n",
      "/home/ruslan/anaconda2/lib/python2.7/site-packages/numpy/core/include/numpy/npy_1_7_deprecated_api.h:15:2: warning: #warning \"Using deprecated NumPy API, disable it by \" \"#defining NPY_NO_DEPRECATED_API NPY_1_7_API_VERSION\" [-Wcpp]\n",
      " #warning \"Using deprecated NumPy API, disable it by \" \\\n",
      "  ^\n",
      "cython_functions.c:1456:18: warning: ‘__pyx_f_16cython_functions_matrix_multiply’ defined but not used [-Wunused-function]\n",
      " static PyObject *__pyx_f_16cython_functions_matrix_multiply(PyArrayObject *__pyx_v_X, PyArrayObject *__pyx_v_Y) {\n",
      "                  ^\n",
      "cython_functions.c:1697:18: warning: ‘__pyx_f_16cython_functions_matrix_rowmean’ defined but not used [-Wunused-function]\n",
      " static PyObject *__pyx_f_16cython_functions_matrix_rowmean(CYTHON_UNUSED PyObject *__pyx_v_X, struct __pyx_opt_args_16cython_functions_matrix_rowmean *__pyx_optional_args) {\n",
      "                  ^\n",
      "cython_functions.c:1751:18: warning: ‘__pyx_f_16cython_functions_cosine_similarity’ defined but not used [-Wunused-function]\n",
      " static PyObject *__pyx_f_16cython_functions_cosine_similarity(CYTHON_UNUSED PyObject *__pyx_v_X, struct __pyx_opt_args_16cython_functions_cosine_similarity *__pyx_optional_args) {\n",
      "                  ^\n",
      "creating build/lib.linux-i686-2.7\n",
      "gcc -pthread -shared -L/home/ruslan/anaconda2/lib -Wl,-rpath=/home/ruslan/anaconda2/lib,--no-as-needed build/temp.linux-i686-2.7/cython_functions.o -L/home/ruslan/anaconda2/lib -lpython2.7 -o build/lib.linux-i686-2.7/cython_functions.so\n",
      "copying build/lib.linux-i686-2.7/cython_functions.so -> \n"
     ]
    }
   ],
   "source": [
    "!python cython_setup.py build_ext --inplace"
   ]
  },
  {
   "cell_type": "markdown",
   "metadata": {},
   "source": [
    "## Matrix multipliaction"
   ]
  },
  {
   "cell_type": "code",
   "execution_count": 49,
   "metadata": {
    "collapsed": true
   },
   "outputs": [],
   "source": [
    "# for python3 add . before filename\n",
    "# from .numpy_functions import matrix_multiply\n",
    "\n",
    "# change filename to check other functions !!!\n",
    "from numpy_functions import matrix_multiply\n",
    "# from numba_functions import matrix_multiply\n",
    "# from cython_functions import matrix_multiply"
   ]
  },
  {
   "cell_type": "code",
   "execution_count": 50,
   "metadata": {
    "collapsed": true
   },
   "outputs": [],
   "source": [
    "# python 3\n",
    "# with open('matrix_mult_tests.pickle', 'rb') as f:\n",
    "#     testing_data = pickle.load(f, encoding='bytes')\n",
    "\n",
    "#python 2\n",
    "with open('matrix_mult_tests.pickle') as f:\n",
    "    testing_data = pickle.load(f)"
   ]
  },
  {
   "cell_type": "markdown",
   "metadata": {},
   "source": [
    "#### Correctness test"
   ]
  },
  {
   "cell_type": "code",
   "execution_count": 53,
   "metadata": {},
   "outputs": [],
   "source": [
    "for i, (X, Y, out) in enumerate(testing_data):\n",
    "    your_out = matrix_multiply(X, Y)\n",
    "    assert np.allclose(your_out, out), \\\n",
    "           \"\"\"current test: {}\n",
    "                your shape: {}, shape should be: {}\n",
    "                mean absolute diff: {}\n",
    "           \"\"\".format(i, your_out.shape,out.shape,\n",
    "                      np.mean(np.abs(your_out - out)))"
   ]
  },
  {
   "cell_type": "markdown",
   "metadata": {},
   "source": [
    "#### Speed test"
   ]
  },
  {
   "cell_type": "code",
   "execution_count": 54,
   "metadata": {
    "collapsed": true
   },
   "outputs": [],
   "source": [
    "X = np.random.rand(1000, 100)\n",
    "Y = np.random.rand(100, 500)"
   ]
  },
  {
   "cell_type": "code",
   "execution_count": 55,
   "metadata": {},
   "outputs": [
    {
     "name": "stdout",
     "output_type": "stream",
     "text": [
      "CPU times: user 16 ms, sys: 8 ms, total: 24 ms\n",
      "Wall time: 270 ms\n"
     ]
    }
   ],
   "source": [
    "%%time\n",
    "# on my pc numba is 10-20 times slower than numpy\n",
    "# and cython is 2-3 times slower than numba\n",
    "_ = matrix_multiply(X, Y)"
   ]
  },
  {
   "cell_type": "markdown",
   "metadata": {},
   "source": [
    "## Row mean"
   ]
  },
  {
   "cell_type": "code",
   "execution_count": 56,
   "metadata": {
    "collapsed": true
   },
   "outputs": [],
   "source": [
    "# for python3 add . before filename\n",
    "# from .numpy_functions import matrix_rowmean\n",
    "\n",
    "# change filename to check other functions !!!\n",
    "from numpy_functions import matrix_rowmean\n",
    "# from numba_functions import matrix_rowmean\n",
    "# from cython_functions import matrix_rowmean"
   ]
  },
  {
   "cell_type": "markdown",
   "metadata": {},
   "source": [
    "### Correctness test"
   ]
  },
  {
   "cell_type": "code",
   "execution_count": 58,
   "metadata": {},
   "outputs": [],
   "source": [
    "# python 3\n",
    "# with open('row_mean_tests.pickle', 'rb') as f:\n",
    "#     testing_data = pickle.load(f, encoding='bytes')\n",
    "\n",
    "\n",
    "# python 2\n",
    "with open('row_mean_tests.pickle') as f:\n",
    "    testing_data = pickle.load(f)"
   ]
  },
  {
   "cell_type": "code",
   "execution_count": 59,
   "metadata": {
    "scrolled": true
   },
   "outputs": [
    {
     "ename": "AssertionError",
     "evalue": "current test: 0\n                your shape: (3,), shape should be: (3,)\n                mean absolute diff: 0.371603944185\n           ",
     "output_type": "error",
     "traceback": [
      "\u001b[0;31m---------------------------------------------------------------------------\u001b[0m",
      "\u001b[0;31mAssertionError\u001b[0m                            Traceback (most recent call last)",
      "\u001b[0;32m<ipython-input-59-ecccb1d186f2>\u001b[0m in \u001b[0;36m<module>\u001b[0;34m()\u001b[0m\n\u001b[1;32m      5\u001b[0m                 \u001b[0mmean\u001b[0m \u001b[0mabsolute\u001b[0m \u001b[0mdiff\u001b[0m\u001b[0;34m:\u001b[0m \u001b[0;34m{\u001b[0m\u001b[0;34m}\u001b[0m\u001b[0;34m\u001b[0m\u001b[0m\n\u001b[1;32m      6\u001b[0m            \"\"\".format(i, your_out.shape,out.shape,\n\u001b[0;32m----> 7\u001b[0;31m                       np.mean(np.abs(your_out - out)))\n\u001b[0m",
      "\u001b[0;31mAssertionError\u001b[0m: current test: 0\n                your shape: (3,), shape should be: (3,)\n                mean absolute diff: 0.371603944185\n           "
     ]
    }
   ],
   "source": [
    "for i, (X, weights, out) in enumerate(testing_data):\n",
    "    your_out = matrix_rowmean(X, weights)\n",
    "    assert np.allclose(your_out, out), \\\n",
    "           \"\"\"current test: {}\n",
    "                your shape: {}, shape should be: {}\n",
    "                mean absolute diff: {}\n",
    "           \"\"\".format(i, your_out.shape,out.shape,\n",
    "                      np.mean(np.abs(your_out - out)))"
   ]
  },
  {
   "cell_type": "markdown",
   "metadata": {},
   "source": [
    "### Speed test"
   ]
  },
  {
   "cell_type": "code",
   "execution_count": null,
   "metadata": {
    "collapsed": true
   },
   "outputs": [],
   "source": [
    "X = np.random.rand(1000, 100)\n",
    "weights = np.random.rand(100)"
   ]
  },
  {
   "cell_type": "code",
   "execution_count": null,
   "metadata": {
    "collapsed": true
   },
   "outputs": [],
   "source": [
    "%%time\n",
    "_ = matrix_rowmean(X, weights)"
   ]
  },
  {
   "cell_type": "markdown",
   "metadata": {},
   "source": [
    "## Cosine similarity"
   ]
  },
  {
   "cell_type": "code",
   "execution_count": 60,
   "metadata": {
    "collapsed": true
   },
   "outputs": [],
   "source": [
    "# for python3 add . before filename\n",
    "# from .numpy_functions import cosine_similarity\n",
    "\n",
    "# change filename to check other functions !!!\n",
    "from numpy_functions import cosine_similarity\n",
    "# from numba_functions import cosine_similarity\n",
    "# from cython_functions import cosine_similarity"
   ]
  },
  {
   "cell_type": "code",
   "execution_count": 62,
   "metadata": {},
   "outputs": [],
   "source": [
    "# python 3\n",
    "# with open('cosine_similarity_tests.pickle', 'rb') as f:\n",
    "#     testing_data = pickle.load(f, encoding='bytes')\n",
    "\n",
    "\n",
    "# python 2\n",
    "with open('cosine_similarity_tests.pickle') as f:\n",
    "    testing_data = pickle.load(f)"
   ]
  },
  {
   "cell_type": "markdown",
   "metadata": {},
   "source": [
    "### Correctness test"
   ]
  },
  {
   "cell_type": "code",
   "execution_count": 73,
   "metadata": {},
   "outputs": [
    {
     "name": "stdout",
     "output_type": "stream",
     "text": [
      "[[  1.09782880e+00   7.62483370e-01  -1.54230758e+00  -1.46101797e+00\n",
      "    1.15707093e+00   1.31591939e+00  -1.02165922e+00   1.58103775e+00\n",
      "    8.88284407e-01  -5.80786539e-01   4.33208209e-01   7.51570793e-01\n",
      "   -4.13643969e-01  -1.20006666e+00   9.50788238e-01   1.47868259e+00\n",
      "   -1.41149645e+00  -6.20863778e-01   3.42885769e-01   6.30794129e-01\n",
      "   -3.92189872e-01   1.41466041e-01   8.40745349e-01   1.68781765e+00\n",
      "   -7.43304155e-01  -1.52805325e-01  -4.62427232e-01   5.02377028e-01\n",
      "   -1.61971760e+00  -8.06906313e-01   1.24052801e+00  -1.05560426e-02\n",
      "    8.43238843e-01   1.23308703e+00   4.70623217e-01   6.57603933e-01\n",
      "   -6.87176086e-01   1.01967439e+00   1.69103173e+00   6.61000680e-01\n",
      "   -1.38776749e+00   1.14551063e+00   2.87833957e-01  -4.54046764e-01\n",
      "   -9.57306580e-01   1.21392666e+00]\n",
      " [ -1.14165751e-01   2.86600208e-01  -1.02878833e+00   1.46444815e+00\n",
      "   -8.59996837e-01   1.00211873e+00   1.33634761e+00  -8.88751016e-01\n",
      "   -3.40788929e-01   2.18249697e-01  -7.21692567e-01   2.59494455e-01\n",
      "   -1.49072275e+00  -1.20521602e+00   8.63005455e-01  -4.57917852e-01\n",
      "   -1.35954580e+00   1.27266579e-02   2.69328866e-01   1.65468881e+00\n",
      "    9.24853809e-01  -1.50621532e+00   1.57414008e+00  -1.31710888e+00\n",
      "    8.46203149e-01  -1.23745725e+00  -5.06431991e-01  -1.42751942e+00\n",
      "    1.47314247e+00  -6.52855916e-02  -9.30483428e-01   1.73475134e+00\n",
      "    7.36903723e-01  -1.29224753e+00  -2.41531082e-01   9.49244707e-01\n",
      "   -1.01467546e+00   1.73818186e+00  -6.47658508e-01   7.65000930e-01\n",
      "    8.05457770e-01  -4.53037826e-01  -2.81902676e-01   1.37922057e+00\n",
      "   -1.17038446e-01   1.40897878e-01]\n",
      " [ -1.44922846e+00  -2.05944715e-01   4.05660896e-01  -1.39229657e+00\n",
      "    1.59857619e+00  -1.21744043e-01   2.79474057e-01   1.47910918e+00\n",
      "    7.47886857e-01   1.97009790e-01  -1.04580273e-01  -4.69653053e-01\n",
      "    1.09050899e+00  -9.41850310e-01  -1.25785122e+00  -6.40266438e-01\n",
      "   -9.46330681e-01  -7.48665255e-01  -1.28953357e+00   4.24573861e-01\n",
      "    1.35790565e-01  -2.30952170e-01   3.66526876e-01   1.49402320e+00\n",
      "   -8.75004604e-01  -4.44541518e-01   1.58897739e+00  -8.63824662e-01\n",
      "   -1.45121050e+00   2.80679556e-01   8.94366642e-01   8.24759805e-01\n",
      "    7.33086820e-01  -1.59047029e+00   5.85460503e-01   2.14693753e-01\n",
      "    1.47861666e+00  -3.23041304e-02  -1.61027064e+00  -5.35563848e-01\n",
      "   -1.49217256e+00  -6.28738313e-01   1.35593915e+00  -4.29935843e-01\n",
      "   -1.11145948e+00   1.33356741e+00]\n",
      " [  1.07325544e+00   9.63944139e-02  -2.70432886e-01   1.08916048e+00\n",
      "   -8.91004102e-01   1.32723372e+00  -3.40227906e-01   1.07258020e+00\n",
      "   -3.74336037e-01  -1.68442835e+00   1.50113692e+00   1.45118152e+00\n",
      "    1.26763352e+00  -9.08292018e-01   3.53258443e-01  -3.38040687e-01\n",
      "   -1.40194362e+00   5.49106477e-01   5.02056651e-01  -5.34625896e-01\n",
      "   -7.61636949e-01  -6.97243038e-01   1.28809114e+00  -1.23457304e+00\n",
      "   -5.98942807e-02   7.24816224e-01  -1.29093630e+00  -1.97565344e-01\n",
      "    2.56136588e-01   4.66077566e-01  -1.52483556e+00  -2.60572274e-01\n",
      "    9.98089575e-02  -1.43190658e-01   3.45949793e-01  -1.61724419e+00\n",
      "    3.66375194e-01  -4.34549683e-01  -9.69083701e-01   6.41169650e-01\n",
      "    5.61038711e-01  -1.00078803e+00  -1.34986199e+00   1.72756300e+00\n",
      "   -4.92441152e-01   2.79007391e-01]\n",
      " [ -1.28884571e+00   3.91509201e-01   4.05105160e-02   1.55559835e+00\n",
      "    4.44372966e-02   9.87688007e-01  -1.14668416e-01  -1.45283084e+00\n",
      "   -1.68229139e+00   1.37976816e+00  -1.44112688e+00  -1.03861332e+00\n",
      "    1.10466469e+00  -1.30334499e+00   3.39654549e-01  -7.14232975e-02\n",
      "    1.64542260e+00   6.79088394e-01   2.40948924e-01   1.68783239e+00\n",
      "    4.64226165e-01  -8.92674320e-01  -5.67598699e-01  -1.31051986e-01\n",
      "    9.25362619e-01   1.22272835e+00   1.53600938e+00  -6.65803337e-01\n",
      "    1.53049451e+00  -1.58506138e+00  -4.07330255e-01  -7.37276282e-01\n",
      "   -1.52740382e-01  -7.98224099e-01   6.99859262e-01  -2.19808091e-02\n",
      "    5.92266370e-01   3.91080218e-01  -1.97073939e-01   1.70651022e+00\n",
      "   -7.96743827e-01  -3.12276408e-01   9.90910834e-01  -1.30069238e+00\n",
      "    6.07682360e-01   1.42890616e+00]\n",
      " [ -4.21651859e-01   2.59624159e-01   1.06365103e+00  -9.15971623e-01\n",
      "   -1.52870425e+00   1.06756329e+00   1.54696954e+00  -1.89439651e-01\n",
      "   -1.31261115e+00   1.49213192e+00  -1.58638410e+00   1.59109946e+00\n",
      "    6.54122522e-02   8.69385828e-02  -2.07539721e-01   7.61452482e-01\n",
      "   -1.42378916e+00   5.63451940e-01  -6.03961388e-01   1.27254827e+00\n",
      "   -8.64681143e-01   3.31992228e-03  -8.18743501e-01   1.54047680e+00\n",
      "   -1.25103032e+00   1.11474499e+00   6.98549369e-01   8.66748863e-01\n",
      "   -9.39143632e-01  -1.33541872e+00  -1.60190926e+00   1.11552855e+00\n",
      "   -8.55289255e-02  -4.38128032e-01  -1.07589695e+00  -1.27851991e+00\n",
      "    1.51890215e+00   7.73948738e-01   1.48856225e+00   2.62841743e-01\n",
      "    9.46920590e-02   1.77368020e-01  -1.24920139e-03  -1.14430527e+00\n",
      "    2.00902355e-01   8.73241903e-01]\n",
      " [ -1.67501447e+00   1.48759770e+00   8.47729343e-01  -1.32689613e+00\n",
      "    1.57054379e+00   3.63135727e-01   1.63616137e+00  -1.54224815e+00\n",
      "    7.17062730e-01   1.50136174e+00   3.60998283e-02  -1.78630545e-01\n",
      "    3.77412086e-01  -1.37162038e-01   1.55384783e+00   1.22008947e+00\n",
      "    1.32291782e+00   2.50622265e-01   1.48107788e-01  -9.07121794e-01\n",
      "    5.77624115e-01   9.41753883e-03  -7.72610741e-01   9.25312318e-01\n",
      "    1.72161454e+00   1.46485662e+00   1.19178116e+00  -1.32717440e+00\n",
      "   -4.70775294e-01   2.40213900e-02  -7.81457783e-01   1.66437189e+00\n",
      "   -1.68761641e+00   1.33243638e+00  -8.29550731e-01   1.01311815e+00\n",
      "   -1.67110145e+00   4.19809830e-01   1.69796073e+00  -1.06080250e+00\n",
      "    1.47025124e-01  -1.07206470e+00  -1.28563844e+00   1.08663379e+00\n",
      "   -1.57836918e+00  -7.12458172e-02]\n",
      " [  1.19856544e+00  -1.52772367e+00  -9.03967286e-01   1.48753998e+00\n",
      "   -4.95453139e-01   2.29523809e-01  -7.64109805e-01  -1.06654896e+00\n",
      "    6.56816564e-01   3.43875366e-01   1.25344913e+00  -6.73867472e-01\n",
      "    1.19360828e+00  -1.37587905e+00  -3.87651064e-01  -5.89729358e-02\n",
      "   -1.33132486e+00  -9.32238955e-01   3.35177440e-01   1.71486743e+00\n",
      "   -8.23491055e-01  -1.52096832e+00   4.21832043e-01  -7.57549709e-01\n",
      "   -3.06524793e-01  -1.35587879e+00   4.34055332e-01   2.80988714e-01\n",
      "    3.13622089e-01   1.56128396e+00   1.26394526e+00   1.63459038e+00\n",
      "   -1.14234614e+00   6.81888612e-01  -1.12509514e-02  -7.68918340e-01\n",
      "    8.38629484e-01   4.75469230e-02   1.32029692e+00  -1.09853520e+00\n",
      "   -1.26748836e+00  -5.93886897e-01   9.53282213e-01   1.19264609e+00\n",
      "    1.58038099e+00  -6.96419791e-01]\n",
      " [ -2.30617571e-01   1.05780572e+00   1.69940725e+00  -1.60775906e+00\n",
      "   -4.08039036e-01  -1.67358966e+00   1.28549686e+00  -1.01059502e+00\n",
      "    2.23889877e-01  -6.30354323e-01  -1.02237089e+00  -3.17579260e-01\n",
      "    1.45686894e+00  -7.09356711e-01  -3.81645453e-01  -8.98058885e-01\n",
      "    4.47469388e-01  -3.24951393e-01   5.41413190e-01  -5.84031097e-01\n",
      "   -1.09070476e+00  -1.55427710e+00  -4.19404362e-02  -4.39288100e-01\n",
      "   -1.58072084e+00  -1.10432561e+00   9.48315570e-01  -1.07015608e-01\n",
      "   -1.57138746e+00   4.00473752e-01   1.63806328e+00  -1.45372710e+00\n",
      "    9.04801230e-01   9.31850107e-01   8.79721160e-01  -8.84390560e-01\n",
      "   -1.43099351e+00   1.67239930e+00  -5.65985068e-02  -1.66839648e+00\n",
      "   -4.72479198e-03  -9.83111102e-01   1.94086934e-01  -1.27603864e+00\n",
      "   -9.11484519e-01  -1.60445405e+00]\n",
      " [ -6.82692996e-01  -8.78869524e-01  -2.93333070e-02  -1.67253484e+00\n",
      "    1.03087398e+00  -4.14338176e-01  -1.46617289e+00   9.00865746e-01\n",
      "    1.27818136e+00   1.49350307e+00   5.44225243e-01   1.58599740e+00\n",
      "   -1.70040402e+00  -1.40569719e+00  -1.64027242e+00   8.21270157e-01\n",
      "   -6.87872270e-01   1.34277890e+00   1.10605409e+00   1.53899086e+00\n",
      "    7.31173513e-01   7.52513684e-01   7.00161001e-01  -1.48139674e-01\n",
      "   -1.35479524e-01   6.62856152e-01  -4.70847272e-01   8.84853773e-01\n",
      "    1.54129185e+00  -1.27938609e+00   6.08644693e-01  -1.39186023e+00\n",
      "   -4.66982401e-01  -1.54681112e+00  -7.38183091e-01  -1.55086339e+00\n",
      "   -4.55427715e-01  -3.52734819e-02  -6.25370302e-01  -6.36024312e-01\n",
      "   -2.30882162e-02  -9.50449737e-01   4.48021600e-02  -1.98261125e-01\n",
      "   -1.16406204e+00   7.81448997e-01]\n",
      " [  8.36627260e-02   7.49643630e-01  -1.44199878e+00   1.29428561e-02\n",
      "    3.13597500e-01   7.57708937e-01   1.73718276e+00  -1.27807860e+00\n",
      "   -1.33830806e+00   3.40767796e-01  -6.49584046e-01  -1.17566458e+00\n",
      "    5.95559895e-01  -1.25694581e+00  -3.72507020e-01  -5.10701932e-01\n",
      "    1.57891402e+00  -1.60858560e+00  -9.30435995e-01  -1.33323539e+00\n",
      "    1.06142535e+00  -4.94204133e-01   3.87180976e-01  -7.08237092e-01\n",
      "   -2.08786948e-01  -7.23956546e-02   1.20575246e+00   7.01709717e-01\n",
      "   -3.54903081e-01  -3.32856236e-02  -5.52157698e-02  -1.01552295e+00\n",
      "    1.75044754e-01   9.39112998e-01   1.47399806e-01   3.06052397e-01\n",
      "    1.50645453e+00   1.07939518e+00   2.19049684e-02  -1.48714449e+00\n",
      "   -6.89741967e-01  -2.76304383e-01  -1.21762384e+00   1.61824944e+00\n",
      "    5.27356191e-01   2.54114663e-01]\n",
      " [ -1.04312840e-01   9.61231806e-01   8.48446257e-01   1.35805816e+00\n",
      "   -7.76699753e-01  -2.59788224e-01  -9.43727253e-01   9.98039438e-02\n",
      "    1.45617296e+00   1.73849725e+00  -1.55193986e+00   1.42980943e+00\n",
      "    7.30113435e-01  -3.40591530e-01  -3.60203076e-01  -3.84387316e-04\n",
      "   -1.62858512e-01  -4.42552010e-01  -5.26340243e-01   1.58150420e+00\n",
      "    4.67558846e-01  -5.24517740e-01  -8.24385558e-01  -1.48878440e+00\n",
      "    9.12246177e-01   7.99555183e-01   3.85783506e-01   9.37829306e-01\n",
      "   -5.06429818e-01  -1.23743661e+00   7.64430723e-01   6.75379894e-01\n",
      "   -1.39914785e+00   2.49443094e-01  -8.29066415e-01  -1.32782159e+00\n",
      "   -1.20691460e+00  -2.36548395e-01  -2.54624404e-01  -3.29149808e-01\n",
      "    1.97668749e-01  -1.00056995e+00  -3.39852399e-01  -5.92590750e-01\n",
      "    3.70118473e-01  -1.32341824e+00]\n",
      " [ -5.84867703e-01  -8.39743628e-01   8.05178311e-01   9.40628574e-02\n",
      "    1.50185224e+00  -4.76028804e-01   1.56178123e-02  -6.99529731e-01\n",
      "    3.14197683e-01   2.04708239e-01   1.35448166e+00  -9.69568798e-01\n",
      "   -3.15153289e-01  -6.09059116e-01   1.48545374e+00  -7.04793116e-02\n",
      "   -1.49942102e+00   7.43991886e-01   1.23938136e+00   1.63336745e+00\n",
      "    8.36976438e-01  -8.98377322e-01  -2.12555541e-01  -1.00585833e+00\n",
      "    1.23589344e-01  -1.25194115e-01   8.31160851e-01  -1.31288224e+00\n",
      "   -1.60021849e+00  -4.92705368e-01  -1.03861717e+00  -1.56886890e+00\n",
      "   -1.60017593e+00  -1.38963919e+00   5.56822030e-01   8.35617013e-01\n",
      "   -1.28123328e-01   4.82929077e-01   1.45922671e+00   1.46104462e+00\n",
      "    1.39351092e+00   8.68127977e-01  -1.09153658e+00  -1.14330074e+00\n",
      "    8.12609023e-01  -1.19027696e+00]\n",
      " [  1.27840521e+00  -9.51380145e-01  -7.69942092e-01   1.59193766e+00\n",
      "   -4.30768661e-01  -1.38174287e+00   6.57484297e-02   1.68346596e+00\n",
      "    1.34221559e-01  -9.21290176e-01   1.30885753e+00   1.35237172e+00\n",
      "   -1.64774388e+00  -1.58153511e+00   1.59182321e+00   2.47709298e-01\n",
      "   -8.55540273e-01  -2.72577358e-01   3.79761199e-01  -5.75200408e-01\n",
      "    6.35058802e-01  -2.44604748e-01   8.00307684e-01   1.66304000e+00\n",
      "   -1.00601290e+00  -1.73775422e-01   1.34249394e-01  -2.18867514e-01\n",
      "    1.03444293e+00  -1.52901661e+00   5.40382996e-01   1.17615045e-02\n",
      "   -5.80776722e-01   4.94700744e-01   1.54670399e+00   1.48441190e+00\n",
      "    1.65191577e+00   4.48973054e-01   3.82432786e-01  -4.93877737e-01\n",
      "   -1.42892167e+00   1.11902579e+00  -1.52605876e+00   9.51071971e-01\n",
      "   -1.34483631e+00  -7.86218391e-01]]\n",
      "[[ 1.0978288   0.76248337  0.          0.          1.15707093  1.31591939\n",
      "   0.          1.58103775  0.88828441  0.          0.43320821  0.75157079\n",
      "   0.          0.          0.95078824  1.47868259  0.          0.\n",
      "   0.34288577  0.63079413  0.          0.14146604  0.84074535  1.68781765\n",
      "   0.          0.          0.          0.50237703  0.          0.\n",
      "   1.24052801  0.          0.84323884  1.23308703  0.47062322  0.65760393\n",
      "   0.          1.01967439  1.69103173  0.66100068  0.          1.14551063\n",
      "   0.28783396  0.          0.          1.21392666]\n",
      " [ 0.          0.28660021  0.          1.46444815  0.          1.00211873\n",
      "   1.33634761  0.          0.          0.2182497   0.          0.25949445\n",
      "   0.          0.          0.86300545  0.          0.          0.01272666\n",
      "   0.26932887  1.65468881  0.92485381  0.          1.57414008  0.\n",
      "   0.84620315  0.          0.          0.          1.47314247  0.          0.\n",
      "   1.73475134  0.73690372  0.          0.          0.94924471  0.\n",
      "   1.73818186  0.          0.76500093  0.80545777  0.          0.\n",
      "   1.37922057  0.          0.14089788]\n",
      " [ 0.          0.          0.4056609   0.          1.59857619  0.\n",
      "   0.27947406  1.47910918  0.74788686  0.19700979  0.          0.\n",
      "   1.09050899  0.          0.          0.          0.          0.          0.\n",
      "   0.42457386  0.13579057  0.          0.36652688  1.4940232   0.          0.\n",
      "   1.58897739  0.          0.          0.28067956  0.89436664  0.82475981\n",
      "   0.73308682  0.          0.5854605   0.21469375  1.47861666  0.          0.\n",
      "   0.          0.          0.          1.35593915  0.          0.\n",
      "   1.33356741]\n",
      " [ 1.07325544  0.09639441  0.          1.08916048  0.          1.32723372\n",
      "   0.          1.0725802   0.          0.          1.50113692  1.45118152\n",
      "   1.26763352  0.          0.35325844  0.          0.          0.54910648\n",
      "   0.50205665  0.          0.          0.          1.28809114  0.          0.\n",
      "   0.72481622  0.          0.          0.25613659  0.46607757  0.          0.\n",
      "   0.09980896  0.          0.34594979  0.          0.36637519  0.          0.\n",
      "   0.64116965  0.56103871  0.          0.          1.727563    0.\n",
      "   0.27900739]\n",
      " [ 0.          0.3915092   0.04051052  1.55559835  0.0444373   0.98768801\n",
      "   0.          0.          0.          1.37976816  0.          0.\n",
      "   1.10466469  0.          0.33965455  0.          1.6454226   0.67908839\n",
      "   0.24094892  1.68783239  0.46422617  0.          0.          0.\n",
      "   0.92536262  1.22272835  1.53600938  0.          1.53049451  0.          0.\n",
      "   0.          0.          0.          0.69985926  0.          0.59226637\n",
      "   0.39108022  0.          1.70651022  0.          0.          0.99091083\n",
      "   0.          0.60768236  1.42890616]\n",
      " [ 0.          0.25962416  1.06365103  0.          0.          1.06756329\n",
      "   1.54696954  0.          0.          1.49213192  0.          1.59109946\n",
      "   0.06541225  0.08693858  0.          0.76145248  0.          0.56345194\n",
      "   0.          1.27254827  0.          0.00331992  0.          1.5404768\n",
      "   0.          1.11474499  0.69854937  0.86674886  0.          0.          0.\n",
      "   1.11552855  0.          0.          0.          0.          1.51890215\n",
      "   0.77394874  1.48856225  0.26284174  0.09469206  0.17736802  0.          0.\n",
      "   0.20090236  0.8732419 ]\n",
      " [ 0.          1.4875977   0.84772934  0.          1.57054379  0.36313573\n",
      "   1.63616137  0.          0.71706273  1.50136174  0.03609983  0.\n",
      "   0.37741209  0.          1.55384783  1.22008947  1.32291782  0.25062227\n",
      "   0.14810779  0.          0.57762411  0.00941754  0.          0.92531232\n",
      "   1.72161454  1.46485662  1.19178116  0.          0.          0.02402139\n",
      "   0.          1.66437189  0.          1.33243638  0.          1.01311815\n",
      "   0.          0.41980983  1.69796073  0.          0.14702512  0.          0.\n",
      "   1.08663379  0.          0.        ]\n",
      " [ 1.19856544  0.          0.          1.48753998  0.          0.22952381\n",
      "   0.          0.          0.65681656  0.34387537  1.25344913  0.\n",
      "   1.19360828  0.          0.          0.          0.          0.\n",
      "   0.33517744  1.71486743  0.          0.          0.42183204  0.          0.\n",
      "   0.          0.43405533  0.28098871  0.31362209  1.56128396  1.26394526\n",
      "   1.63459038  0.          0.68188861  0.          0.          0.83862948\n",
      "   0.04754692  1.32029692  0.          0.          0.          0.95328221\n",
      "   1.19264609  1.58038099  0.        ]\n",
      " [ 0.          1.05780572  1.69940725  0.          0.          0.\n",
      "   1.28549686  0.          0.22388988  0.          0.          0.\n",
      "   1.45686894  0.          0.          0.          0.44746939  0.\n",
      "   0.54141319  0.          0.          0.          0.          0.          0.\n",
      "   0.          0.94831557  0.          0.          0.40047375  1.63806328\n",
      "   0.          0.90480123  0.93185011  0.87972116  0.          0.\n",
      "   1.6723993   0.          0.          0.          0.          0.19408693\n",
      "   0.          0.          0.        ]\n",
      " [ 0.          0.          0.          0.          1.03087398  0.          0.\n",
      "   0.90086575  1.27818136  1.49350307  0.54422524  1.5859974   0.          0.\n",
      "   0.          0.82127016  0.          1.3427789   1.10605409  1.53899086\n",
      "   0.73117351  0.75251368  0.700161    0.          0.          0.66285615\n",
      "   0.          0.88485377  1.54129185  0.          0.60864469  0.          0.\n",
      "   0.          0.          0.          0.          0.          0.          0.\n",
      "   0.          0.          0.04480216  0.          0.          0.781449  ]\n",
      " [ 0.08366273  0.74964363  0.          0.01294286  0.3135975   0.75770894\n",
      "   1.73718276  0.          0.          0.3407678   0.          0.\n",
      "   0.5955599   0.          0.          0.          1.57891402  0.          0.\n",
      "   0.          1.06142535  0.          0.38718098  0.          0.          0.\n",
      "   1.20575246  0.70170972  0.          0.          0.          0.\n",
      "   0.17504475  0.939113    0.14739981  0.3060524   1.50645453  1.07939518\n",
      "   0.02190497  0.          0.          0.          0.          1.61824944\n",
      "   0.52735619  0.25411466]\n",
      " [ 0.          0.96123181  0.84844626  1.35805816  0.          0.          0.\n",
      "   0.09980394  1.45617296  1.73849725  0.          1.42980943  0.73011343\n",
      "   0.          0.          0.          0.          0.          0.\n",
      "   1.5815042   0.46755885  0.          0.          0.          0.91224618\n",
      "   0.79955518  0.38578351  0.93782931  0.          0.          0.76443072\n",
      "   0.67537989  0.          0.24944309  0.          0.          0.          0.\n",
      "   0.          0.          0.19766875  0.          0.          0.\n",
      "   0.37011847  0.        ]\n",
      " [ 0.          0.          0.80517831  0.09406286  1.50185224  0.\n",
      "   0.01561781  0.          0.31419768  0.20470824  1.35448166  0.          0.\n",
      "   0.          1.48545374  0.          0.          0.74399189  1.23938136\n",
      "   1.63336745  0.83697644  0.          0.          0.          0.12358934\n",
      "   0.          0.83116085  0.          0.          0.          0.          0.\n",
      "   0.          0.          0.55682203  0.83561701  0.          0.48292908\n",
      "   1.45922671  1.46104462  1.39351092  0.86812798  0.          0.\n",
      "   0.81260902  0.        ]\n",
      " [ 1.27840521  0.          0.          1.59193766  0.          0.\n",
      "   0.06574843  1.68346596  0.13422156  0.          1.30885753  1.35237172\n",
      "   0.          0.          1.59182321  0.2477093   0.          0.\n",
      "   0.3797612   0.          0.6350588   0.          0.80030768  1.66304     0.\n",
      "   0.          0.13424939  0.          1.03444293  0.          0.540383\n",
      "   0.0117615   0.          0.49470074  1.54670399  1.4844119   1.65191577\n",
      "   0.44897305  0.38243279  0.          0.          1.11902579  0.\n",
      "   0.95107197  0.          0.        ]]\n"
     ]
    },
    {
     "ename": "AssertionError",
     "evalue": "current test: 0\n                your shape: (14, 14), shape should be: (14, 14)\n                mean absolute diff: 0.263858187035\n           ",
     "output_type": "error",
     "traceback": [
      "\u001b[0;31m---------------------------------------------------------------------------\u001b[0m",
      "\u001b[0;31mAssertionError\u001b[0m                            Traceback (most recent call last)",
      "\u001b[0;32m<ipython-input-73-7b7ab7f31ae1>\u001b[0m in \u001b[0;36m<module>\u001b[0;34m()\u001b[0m\n\u001b[1;32m      5\u001b[0m                 \u001b[0mmean\u001b[0m \u001b[0mabsolute\u001b[0m \u001b[0mdiff\u001b[0m\u001b[0;34m:\u001b[0m \u001b[0;34m{\u001b[0m\u001b[0;34m}\u001b[0m\u001b[0;34m\u001b[0m\u001b[0m\n\u001b[1;32m      6\u001b[0m            \"\"\".format(i, your_out.shape,out.shape,\n\u001b[0;32m----> 7\u001b[0;31m                       np.mean(np.abs(your_out - out)))\n\u001b[0m",
      "\u001b[0;31mAssertionError\u001b[0m: current test: 0\n                your shape: (14, 14), shape should be: (14, 14)\n                mean absolute diff: 0.263858187035\n           "
     ]
    }
   ],
   "source": [
    "for i, (X, with_mean, with_std, top_n, out) in enumerate(testing_data):\n",
    "    your_out = cosine_similarity(X, top_n, with_mean, with_std)\n",
    "    assert np.allclose(your_out, out), \\\n",
    "           \"\"\"current test: {}\n",
    "                your shape: {}, shape should be: {}\n",
    "                mean absolute diff: {}\n",
    "           \"\"\".format(i, your_out.shape,out.shape,\n",
    "                      np.mean(np.abs(your_out - out)))"
   ]
  },
  {
   "cell_type": "markdown",
   "metadata": {},
   "source": [
    "### Speed test"
   ]
  },
  {
   "cell_type": "code",
   "execution_count": 69,
   "metadata": {
    "collapsed": true
   },
   "outputs": [],
   "source": [
    "X = np.random.rand(1000, 10000)"
   ]
  },
  {
   "cell_type": "code",
   "execution_count": 70,
   "metadata": {},
   "outputs": [
    {
     "name": "stdout",
     "output_type": "stream",
     "text": [
      "CPU times: user 3min 10s, sys: 360 ms, total: 3min 10s\n",
      "Wall time: 3min 9s\n"
     ]
    }
   ],
   "source": [
    "%%time\n",
    "_ = cosine_similarity(X, 100, True, True)"
   ]
  },
  {
   "cell_type": "code",
   "execution_count": null,
   "metadata": {
    "collapsed": true
   },
   "outputs": [],
   "source": []
  }
 ],
 "metadata": {
  "kernelspec": {
   "display_name": "Python 2",
   "language": "python",
   "name": "python2"
  },
  "language_info": {
   "codemirror_mode": {
    "name": "ipython",
    "version": 2
   },
   "file_extension": ".py",
   "mimetype": "text/x-python",
   "name": "python",
   "nbconvert_exporter": "python",
   "pygments_lexer": "ipython2",
   "version": "2.7.13"
  }
 },
 "nbformat": 4,
 "nbformat_minor": 2
}
